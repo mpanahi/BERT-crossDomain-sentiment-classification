{
  "nbformat": 4,
  "nbformat_minor": 0,
  "metadata": {
    "colab": {
      "name": "Sentiment_MultiD_ParsBERT.ipynb",
      "provenance": [],
      "collapsed_sections": [],
      "authorship_tag": "ABX9TyNEe6Xb0n9r7If+yhp+7ius",
      "include_colab_link": true
    },
    "kernelspec": {
      "name": "python3",
      "display_name": "Python 3"
    },
    "language_info": {
      "name": "python"
    },
    "accelerator": "GPU",
    "gpuClass": "standard"
  },
  "cells": [
    {
      "cell_type": "markdown",
      "metadata": {
        "id": "view-in-github",
        "colab_type": "text"
      },
      "source": [
        "<a href=\"https://colab.research.google.com/github/mpanahi/BERT-crossDomain-sentiment-classification/blob/main/Sentiment_MultiD_ParsBERT.ipynb\" target=\"_parent\"><img src=\"https://colab.research.google.com/assets/colab-badge.svg\" alt=\"Open In Colab\"/></a>"
      ]
    },
    {
      "cell_type": "code",
      "execution_count": 4,
      "metadata": {
        "id": "iDN0uovDVMON"
      },
      "outputs": [],
      "source": [
        "import pandas as pd\n",
        "\n",
        "dataset_dataframe=pd.read_csv(\"train_data.csv\",usecols=[\"text\",\"label\"])"
      ]
    },
    {
      "cell_type": "code",
      "source": [
        "dataset_dataframe.head(500)"
      ],
      "metadata": {
        "id": "wDwVbamLZUdr"
      },
      "execution_count": null,
      "outputs": []
    },
    {
      "cell_type": "code",
      "source": [
        "train_dataframe=dataset_dataframe[0:]"
      ],
      "metadata": {
        "id": "LDheLKYjZeEr"
      },
      "execution_count": 6,
      "outputs": []
    },
    {
      "cell_type": "code",
      "source": [
        "!pip install transformers"
      ],
      "metadata": {
        "id": "tWeUMycqZwzK"
      },
      "execution_count": null,
      "outputs": []
    },
    {
      "cell_type": "code",
      "source": [
        "from  transformers import AutoTokenizer\n",
        "import torch\n",
        "tokenizer=AutoTokenizer.from_pretrained(\"HooshvareLab/bert-fa-zwnj-base\")"
      ],
      "metadata": {
        "id": "ivSSAS8EZo7l"
      },
      "execution_count": null,
      "outputs": []
    },
    {
      "cell_type": "code",
      "source": [
        "from transformers import AutoModelForSequenceClassification\n",
        "\n",
        "model=AutoModelForSequenceClassification.from_pretrained(\"HooshvareLab/bert-fa-zwnj-base\")"
      ],
      "metadata": {
        "id": "0nkKkAh_cXWE"
      },
      "execution_count": null,
      "outputs": []
    },
    {
      "cell_type": "code",
      "source": [
        "import torch\n",
        "from torch.utils.data import Dataset, DataLoader"
      ],
      "metadata": {
        "id": "fdSmJBwuc4uT"
      },
      "execution_count": 10,
      "outputs": []
    },
    {
      "cell_type": "code",
      "source": [
        "MAX_LEN=512\n",
        "device=\"cuda\""
      ],
      "metadata": {
        "id": "DS0hVlKDcgYr"
      },
      "execution_count": 11,
      "outputs": []
    },
    {
      "cell_type": "code",
      "source": [
        "class SentimentDataset(Dataset):\n",
        "  def __init__(self, dataframe):\n",
        "    self.dataframe=dataframe\n",
        "  def __len__(self):\n",
        "    return len(self.dataframe) \n",
        "  def __getitem__(self,idx):\n",
        "    df=self.dataframe.iloc[idx]\n",
        "    text=[df[\"text\"]]  \n",
        "    label=[df[\"label\"]] \n",
        "    data_t=tokenizer(text,max_length=MAX_LEN,return_tensors=\"pt\",padding='max_length',truncation=True)\n",
        "    label_t=torch.LongTensor(label)\n",
        "    return {\"input_ids\":data_t[\"input_ids\"].squeeze().to(device),\"label\":label_t.squeeze().to(device),}"
      ],
      "metadata": {
        "id": "OqzSoXR1chh6"
      },
      "execution_count": 12,
      "outputs": []
    },
    {
      "cell_type": "code",
      "source": [
        "train_dataset=SentimentDataset(train_dataframe)"
      ],
      "metadata": {
        "id": "Cc7AfsL-dEOr"
      },
      "execution_count": 13,
      "outputs": []
    },
    {
      "cell_type": "code",
      "source": [
        "BATCH_SIZE=16\n",
        "train_dataloader=DataLoader(train_dataset,batch_size=BATCH_SIZE)\n",
        "print((train_dataloader.dataset.dataframe)[\"label\"])"
      ],
      "metadata": {
        "id": "UCCNev05dHXq"
      },
      "execution_count": null,
      "outputs": []
    },
    {
      "cell_type": "code",
      "source": [
        "from transformers import AutoModelForSequenceClassification"
      ],
      "metadata": {
        "id": "unf-RnJ9deHM"
      },
      "execution_count": 15,
      "outputs": []
    },
    {
      "cell_type": "code",
      "source": [
        "model=AutoModelForSequenceClassification.from_pretrained(\"HooshvareLab/bert-fa-zwnj-base\").to(device)"
      ],
      "metadata": {
        "id": "AQuYNA5kdPDj"
      },
      "execution_count": null,
      "outputs": []
    },
    {
      "cell_type": "code",
      "source": [
        "import transformers\n",
        "from sklearn.metrics import classification_report\n",
        "import numpy as np\n",
        "optimizer=transformers.AdamW(model.parameters(),lr=1e-5)"
      ],
      "metadata": {
        "id": "Q9LZz9wWek8c"
      },
      "execution_count": null,
      "outputs": []
    },
    {
      "cell_type": "code",
      "source": [
        "EPOCHS=3\n",
        "train_dataloader=DataLoader(train_dataset,batch_size=BATCH_SIZE)\n",
        "print((train_dataloader.dataset.dataframe)[\"label\"])\n",
        "#EPOCHS=1\n",
        "for epoch in range(EPOCHS):\n",
        " print(\"\\n****\\n epoch=\",epoch) \n",
        " i=0\n",
        " logits_list=[]\n",
        " labels_list=[]\n",
        " for batch in train_dataloader:\n",
        "  \n",
        "  i+=1\n",
        "  optimizer.zero_grad()\n",
        "  input_ids=batch[\"input_ids\"]\n",
        "  \n",
        "   \n",
        "  output_model=model(input_ids=batch[\"input_ids\"],labels=batch[\"label\"])\n",
        "  \n",
        "  \n",
        "  loss=output_model.loss\n",
        "  logits=output_model.logits\n",
        "  \n",
        "  logits_list.append(logits.cpu().detach().numpy())\n",
        "  labels_list.append(batch[\"label\"].cpu().detach().numpy())\n",
        "  \n",
        "  loss.backward()\n",
        "  optimizer.step()\n",
        "  \n",
        " logits_list=np.concatenate(logits_list,axis=0)\n",
        " labels_list=np.concatenate(labels_list,axis=0)\n",
        " logits_list=np.argmax(logits_list,axis=1)"
      ],
      "metadata": {
        "colab": {
          "base_uri": "https://localhost:8080/",
          "height": 711
        },
        "id": "hdg2enXNfCxc",
        "outputId": "67158755-190a-4d31-e809-ea88326e04e0"
      },
      "execution_count": 18,
      "outputs": [
        {
          "output_type": "stream",
          "name": "stdout",
          "text": [
            "0        1\n",
            "1        0\n",
            "2        1\n",
            "3        0\n",
            "4        1\n",
            "        ..\n",
            "18177    0\n",
            "18178    1\n",
            "18179    0\n",
            "18180    1\n",
            "18181    0\n",
            "Name: label, Length: 18182, dtype: int64\n",
            "\n",
            "****\n",
            " epoch= 0\n"
          ]
        },
        {
          "output_type": "error",
          "ename": "KeyboardInterrupt",
          "evalue": "ignored",
          "traceback": [
            "\u001b[0;31m---------------------------------------------------------------------------\u001b[0m",
            "\u001b[0;31mKeyboardInterrupt\u001b[0m                         Traceback (most recent call last)",
            "\u001b[0;32m<ipython-input-18-0875460b1293>\u001b[0m in \u001b[0;36m<module>\u001b[0;34m()\u001b[0m\n\u001b[1;32m     24\u001b[0m   \u001b[0mlabels_list\u001b[0m\u001b[0;34m.\u001b[0m\u001b[0mappend\u001b[0m\u001b[0;34m(\u001b[0m\u001b[0mbatch\u001b[0m\u001b[0;34m[\u001b[0m\u001b[0;34m\"label\"\u001b[0m\u001b[0;34m]\u001b[0m\u001b[0;34m.\u001b[0m\u001b[0mcpu\u001b[0m\u001b[0;34m(\u001b[0m\u001b[0;34m)\u001b[0m\u001b[0;34m.\u001b[0m\u001b[0mdetach\u001b[0m\u001b[0;34m(\u001b[0m\u001b[0;34m)\u001b[0m\u001b[0;34m.\u001b[0m\u001b[0mnumpy\u001b[0m\u001b[0;34m(\u001b[0m\u001b[0;34m)\u001b[0m\u001b[0;34m)\u001b[0m\u001b[0;34m\u001b[0m\u001b[0;34m\u001b[0m\u001b[0m\n\u001b[1;32m     25\u001b[0m \u001b[0;34m\u001b[0m\u001b[0m\n\u001b[0;32m---> 26\u001b[0;31m   \u001b[0mloss\u001b[0m\u001b[0;34m.\u001b[0m\u001b[0mbackward\u001b[0m\u001b[0;34m(\u001b[0m\u001b[0;34m)\u001b[0m\u001b[0;34m\u001b[0m\u001b[0;34m\u001b[0m\u001b[0m\n\u001b[0m\u001b[1;32m     27\u001b[0m   \u001b[0moptimizer\u001b[0m\u001b[0;34m.\u001b[0m\u001b[0mstep\u001b[0m\u001b[0;34m(\u001b[0m\u001b[0;34m)\u001b[0m\u001b[0;34m\u001b[0m\u001b[0;34m\u001b[0m\u001b[0m\n\u001b[1;32m     28\u001b[0m \u001b[0;34m\u001b[0m\u001b[0m\n",
            "\u001b[0;32m/usr/local/lib/python3.7/dist-packages/torch/_tensor.py\u001b[0m in \u001b[0;36mbackward\u001b[0;34m(self, gradient, retain_graph, create_graph, inputs)\u001b[0m\n\u001b[1;32m    361\u001b[0m                 \u001b[0mcreate_graph\u001b[0m\u001b[0;34m=\u001b[0m\u001b[0mcreate_graph\u001b[0m\u001b[0;34m,\u001b[0m\u001b[0;34m\u001b[0m\u001b[0;34m\u001b[0m\u001b[0m\n\u001b[1;32m    362\u001b[0m                 inputs=inputs)\n\u001b[0;32m--> 363\u001b[0;31m         \u001b[0mtorch\u001b[0m\u001b[0;34m.\u001b[0m\u001b[0mautograd\u001b[0m\u001b[0;34m.\u001b[0m\u001b[0mbackward\u001b[0m\u001b[0;34m(\u001b[0m\u001b[0mself\u001b[0m\u001b[0;34m,\u001b[0m \u001b[0mgradient\u001b[0m\u001b[0;34m,\u001b[0m \u001b[0mretain_graph\u001b[0m\u001b[0;34m,\u001b[0m \u001b[0mcreate_graph\u001b[0m\u001b[0;34m,\u001b[0m \u001b[0minputs\u001b[0m\u001b[0;34m=\u001b[0m\u001b[0minputs\u001b[0m\u001b[0;34m)\u001b[0m\u001b[0;34m\u001b[0m\u001b[0;34m\u001b[0m\u001b[0m\n\u001b[0m\u001b[1;32m    364\u001b[0m \u001b[0;34m\u001b[0m\u001b[0m\n\u001b[1;32m    365\u001b[0m     \u001b[0;32mdef\u001b[0m \u001b[0mregister_hook\u001b[0m\u001b[0;34m(\u001b[0m\u001b[0mself\u001b[0m\u001b[0;34m,\u001b[0m \u001b[0mhook\u001b[0m\u001b[0;34m)\u001b[0m\u001b[0;34m:\u001b[0m\u001b[0;34m\u001b[0m\u001b[0;34m\u001b[0m\u001b[0m\n",
            "\u001b[0;32m/usr/local/lib/python3.7/dist-packages/torch/autograd/__init__.py\u001b[0m in \u001b[0;36mbackward\u001b[0;34m(tensors, grad_tensors, retain_graph, create_graph, grad_variables, inputs)\u001b[0m\n\u001b[1;32m    173\u001b[0m     Variable._execution_engine.run_backward(  # Calls into the C++ engine to run the backward pass\n\u001b[1;32m    174\u001b[0m         \u001b[0mtensors\u001b[0m\u001b[0;34m,\u001b[0m \u001b[0mgrad_tensors_\u001b[0m\u001b[0;34m,\u001b[0m \u001b[0mretain_graph\u001b[0m\u001b[0;34m,\u001b[0m \u001b[0mcreate_graph\u001b[0m\u001b[0;34m,\u001b[0m \u001b[0minputs\u001b[0m\u001b[0;34m,\u001b[0m\u001b[0;34m\u001b[0m\u001b[0;34m\u001b[0m\u001b[0m\n\u001b[0;32m--> 175\u001b[0;31m         allow_unreachable=True, accumulate_grad=True)  # Calls into the C++ engine to run the backward pass\n\u001b[0m\u001b[1;32m    176\u001b[0m \u001b[0;34m\u001b[0m\u001b[0m\n\u001b[1;32m    177\u001b[0m def grad(\n",
            "\u001b[0;31mKeyboardInterrupt\u001b[0m: "
          ]
        }
      ]
    }
  ]
}